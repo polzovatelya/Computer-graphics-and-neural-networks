{
 "cells": [
  {
   "cell_type": "code",
   "execution_count": 2,
   "id": "4cb2a42a",
   "metadata": {},
   "outputs": [
    {
     "data": {
      "image/png": "[encoded data removed]",
      "text/plain": [
       "<Figure size 640x480 with 1 Axes>"
      ]
     },
     "metadata": {},
     "output_type": "display_data"
    }
   ],
   "source": [
    "from random import randint\n",
    "import numpy as np\n",
    "import matplotlib.pyplot as plt\n",
    "\n",
    "# Квадрат серого цвета\n",
    "W=H=400\n",
    "bg_clr = (200,200,200)\n",
    "vp =np.full((H,W,3),bg_clr,dtype= 'uint8')\n",
    "\n",
    "# Квадрат зеленого цвета\n",
    "vp[:,:] = (0,255,0)\n",
    "\n",
    "\n",
    "vp[1][:400] = (255,0,0)\n",
    "vp[399][:400] = (255,0,0)\n",
    "vp[:400,1] = (255,0,0)\n",
    "vp[:400,399] = (255,0,0)\n",
    "\n",
    "# Граница 2\n",
    "w=10\n",
    "vp[:w,:] = (255,0,0)\n",
    "vp[:,-w:] = (255,0,0)\n",
    "vp[-w:,:] = (255,0,0)\n",
    "vp[:,:w] = (255,0,0)\n",
    "\n",
    "count = 0\n",
    "m=0\n",
    "while count<20 and m<1000:\n",
    "\n",
    "    rgb = np.random.randint(0,255, size =3)\n",
    "    if np.all(rgb == (0,255,0)):\n",
    "        continue\n",
    "    \n",
    "\n",
    "    a=np.random.randint(20,60)\n",
    "    b=np.random.randint(50,70)\n",
    "    y=np.random.randint(w,H-a-w)\n",
    "    x=np.random.randint(w,W-b-w)\n",
    "    yd = H-y\n",
    "    #декартовая\n",
    "    #if np.all(vp[yd-a:yd, x:x+b] == (0,255,0)):\n",
    "    #   vp[yd-a:yd, x:x+b] = rgb\n",
    "\n",
    "    #компухтера\n",
    "    if np.all(vp[y:y+a, x:x+b] == (0,255,0)):\n",
    "        vp[y:y+a, x:x+b] = rgb\n",
    "        count+=1\n",
    "    m +=1\n",
    "       \n",
    "\n",
    "plt.axis('off')\n",
    "plt.imshow(vp)\n",
    "plt.show()\n"
   ]
  },
  {
   "cell_type": "code",
   "execution_count": null,
   "id": "3fd3cef3",
   "metadata": {},
   "outputs": [],
   "source": []
  }
 ],
 "metadata": {
  "kernelspec": {
   "display_name": "Python 3 (ipykernel)",
   "language": "python",
   "name": "python3"
  },
  "language_info": {
   "codemirror_mode": {
    "name": "ipython",
    "version": 3
   },
   "file_extension": ".py",
   "mimetype": "text/x-python",
   "name": "python",
   "nbconvert_exporter": "python",
   "pygments_lexer": "ipython3",
   "version": "3.11.5"
  }
 },
 "nbformat": 4,
 "nbformat_minor": 5
}
